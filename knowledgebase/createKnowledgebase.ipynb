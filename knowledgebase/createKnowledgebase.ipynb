{
 "cells": [
  {
   "cell_type": "markdown",
   "id": "612ea884",
   "metadata": {},
   "source": [
    "# This notebook is intended to create the initial knowledgebase for pinecone. We shall be having another page for expanding the knowledgebase\n"
   ]
  },
  {
   "cell_type": "code",
   "execution_count": 23,
   "id": "dd0f8130",
   "metadata": {},
   "outputs": [],
   "source": [
    "import pandas as pd\n"
   ]
  },
  {
   "cell_type": "code",
   "execution_count": 24,
   "id": "5ccc77ff",
   "metadata": {},
   "outputs": [],
   "source": [
    "\n",
    "df = pd.read_excel(\"Knowledgebase.xlsx\")"
   ]
  },
  {
   "cell_type": "code",
   "execution_count": 25,
   "id": "628ae130",
   "metadata": {},
   "outputs": [
    {
     "data": {
      "text/plain": [
       "Index(['ITEM Description', 'GOEDEREN OMSCHRIJVING', 'Goederen Code',\n",
       "       'CATEGORY'],\n",
       "      dtype='object')"
      ]
     },
     "execution_count": 25,
     "metadata": {},
     "output_type": "execute_result"
    }
   ],
   "source": [
    "df.columns"
   ]
  },
  {
   "cell_type": "code",
   "execution_count": 41,
   "id": "230053d3",
   "metadata": {},
   "outputs": [
    {
     "data": {
      "text/plain": [
       "True"
      ]
     },
     "execution_count": 41,
     "metadata": {},
     "output_type": "execute_result"
    }
   ],
   "source": [
    "import os\n",
    "from dotenv import load_dotenv\n",
    "load_dotenv(override=True)"
   ]
  },
  {
   "cell_type": "code",
   "execution_count": 27,
   "id": "e4b62b2d",
   "metadata": {},
   "outputs": [
    {
     "data": {
      "text/html": [
       "<div>\n",
       "<style scoped>\n",
       "    .dataframe tbody tr th:only-of-type {\n",
       "        vertical-align: middle;\n",
       "    }\n",
       "\n",
       "    .dataframe tbody tr th {\n",
       "        vertical-align: top;\n",
       "    }\n",
       "\n",
       "    .dataframe thead th {\n",
       "        text-align: right;\n",
       "    }\n",
       "</style>\n",
       "<table border=\"1\" class=\"dataframe\">\n",
       "  <thead>\n",
       "    <tr style=\"text-align: right;\">\n",
       "      <th></th>\n",
       "      <th>ITEM Description</th>\n",
       "      <th>GOEDEREN OMSCHRIJVING</th>\n",
       "      <th>Goederen Code</th>\n",
       "      <th>CATEGORY</th>\n",
       "    </tr>\n",
       "  </thead>\n",
       "  <tbody>\n",
       "    <tr>\n",
       "      <th>0</th>\n",
       "      <td>Chemical Guys AIR_301_04 Sample Kit</td>\n",
       "      <td>LUCHTVERFRISSER</td>\n",
       "      <td>33073000</td>\n",
       "      <td>NaN</td>\n",
       "    </tr>\n",
       "    <tr>\n",
       "      <th>1</th>\n",
       "      <td>LITTLE TREES Car Air Freshener (Cherry)</td>\n",
       "      <td>LUCHTVERFRISSER</td>\n",
       "      <td>33073000</td>\n",
       "      <td>NaN</td>\n",
       "    </tr>\n",
       "    <tr>\n",
       "      <th>2</th>\n",
       "      <td>LITTLE TREES Car Air Freshener (Watermelon)</td>\n",
       "      <td>LUCHTVERFRISSER</td>\n",
       "      <td>33073000</td>\n",
       "      <td>NaN</td>\n",
       "    </tr>\n",
       "    <tr>\n",
       "      <th>3</th>\n",
       "      <td>Peach Berry Car Air Fresheners</td>\n",
       "      <td>LUCHTVERFRISSER</td>\n",
       "      <td>33073000</td>\n",
       "      <td>NaN</td>\n",
       "    </tr>\n",
       "    <tr>\n",
       "      <th>4</th>\n",
       "      <td>Air Jungles New Car Scent Clip</td>\n",
       "      <td>LUCHTVERFRISSER</td>\n",
       "      <td>33073000</td>\n",
       "      <td>NaN</td>\n",
       "    </tr>\n",
       "    <tr>\n",
       "      <th>...</th>\n",
       "      <td>...</td>\n",
       "      <td>...</td>\n",
       "      <td>...</td>\n",
       "      <td>...</td>\n",
       "    </tr>\n",
       "    <tr>\n",
       "      <th>138</th>\n",
       "      <td>Elenzga New Women's Midi Dress</td>\n",
       "      <td>DAMES KLEDING</td>\n",
       "      <td>61042200</td>\n",
       "      <td>NaN</td>\n",
       "    </tr>\n",
       "    <tr>\n",
       "      <th>139</th>\n",
       "      <td>Mi Lightweight Zipper Hobo Bag</td>\n",
       "      <td>TASSEN</td>\n",
       "      <td>42029900</td>\n",
       "      <td>NaN</td>\n",
       "    </tr>\n",
       "    <tr>\n",
       "      <th>140</th>\n",
       "      <td>Women's Square Toe Stiletto High Heel Sandals</td>\n",
       "      <td>DAMES SCHOENEN</td>\n",
       "      <td>64051000</td>\n",
       "      <td>NaN</td>\n",
       "    </tr>\n",
       "    <tr>\n",
       "      <th>141</th>\n",
       "      <td>3pcs Women's Golden Styling Buckle Belts</td>\n",
       "      <td>RIEMEN</td>\n",
       "      <td>42033000</td>\n",
       "      <td>NaN</td>\n",
       "    </tr>\n",
       "    <tr>\n",
       "      <th>142</th>\n",
       "      <td>Valve Steam Deck 1TB Handheld Gaming Console</td>\n",
       "      <td>VIDEOSPEL</td>\n",
       "      <td>95045000</td>\n",
       "      <td>NaN</td>\n",
       "    </tr>\n",
       "  </tbody>\n",
       "</table>\n",
       "<p>143 rows × 4 columns</p>\n",
       "</div>"
      ],
      "text/plain": [
       "                                  ITEM Description GOEDEREN OMSCHRIJVING  \\\n",
       "0              Chemical Guys AIR_301_04 Sample Kit       LUCHTVERFRISSER   \n",
       "1          LITTLE TREES Car Air Freshener (Cherry)       LUCHTVERFRISSER   \n",
       "2      LITTLE TREES Car Air Freshener (Watermelon)       LUCHTVERFRISSER   \n",
       "3                   Peach Berry Car Air Fresheners       LUCHTVERFRISSER   \n",
       "4                   Air Jungles New Car Scent Clip       LUCHTVERFRISSER   \n",
       "..                                             ...                   ...   \n",
       "138                 Elenzga New Women's Midi Dress         DAMES KLEDING   \n",
       "139                 Mi Lightweight Zipper Hobo Bag                TASSEN   \n",
       "140  Women's Square Toe Stiletto High Heel Sandals        DAMES SCHOENEN   \n",
       "141       3pcs Women's Golden Styling Buckle Belts                RIEMEN   \n",
       "142   Valve Steam Deck 1TB Handheld Gaming Console             VIDEOSPEL   \n",
       "\n",
       "     Goederen Code  CATEGORY  \n",
       "0         33073000       NaN  \n",
       "1         33073000       NaN  \n",
       "2         33073000       NaN  \n",
       "3         33073000       NaN  \n",
       "4         33073000       NaN  \n",
       "..             ...       ...  \n",
       "138       61042200       NaN  \n",
       "139       42029900       NaN  \n",
       "140       64051000       NaN  \n",
       "141       42033000       NaN  \n",
       "142       95045000       NaN  \n",
       "\n",
       "[143 rows x 4 columns]"
      ]
     },
     "execution_count": 27,
     "metadata": {},
     "output_type": "execute_result"
    }
   ],
   "source": [
    "df"
   ]
  },
  {
   "cell_type": "code",
   "execution_count": 28,
   "id": "a161b3bf",
   "metadata": {},
   "outputs": [],
   "source": [
    "from langchain.embeddings.openai import OpenAIEmbeddings\n",
    "from pinecone import Pinecone\n",
    "from pinecone import ServerlessSpec\n",
    "from langchain_pinecone import PineconeVectorStore"
   ]
  },
  {
   "cell_type": "code",
   "execution_count": 51,
   "id": "806e37b8",
   "metadata": {},
   "outputs": [],
   "source": [
    "embeddings = OpenAIEmbeddings(api_key=os.getenv(\"OPENAI_API_KEY\"))  "
   ]
  },
  {
   "cell_type": "code",
   "execution_count": 31,
   "id": "57e7c09b",
   "metadata": {},
   "outputs": [],
   "source": [
    "import getpass\n",
    "import os\n",
    "# Pinecone client\n",
    "if not os.getenv(\"PINECONE_API_KEY\"):\n",
    "    os.environ[\"PINECONE_API_KEY\"] = getpass.getpass(\"Enter your Pinecone API key: \")\n",
    "pinecone_api_key = os.environ.get(\"PINECONE_API_KEY\")\n",
    "pc = Pinecone(api_key=pinecone_api_key)"
   ]
  },
  {
   "cell_type": "code",
   "execution_count": 32,
   "id": "56877f8e",
   "metadata": {},
   "outputs": [],
   "source": [
    "index_name = \"ship2aruba\" \n",
    "if not pc.has_index(index_name):\n",
    "    pc.create_index(\n",
    "        name=index_name,\n",
    "        dimension=1536,\n",
    "        metric=\"cosine\",\n",
    "        spec=ServerlessSpec(cloud=\"aws\", region=\"us-east-1\"),\n",
    "    )"
   ]
  },
  {
   "cell_type": "code",
   "execution_count": 43,
   "id": "69e23940",
   "metadata": {},
   "outputs": [],
   "source": [
    "index = pc.Index(index_name)\n",
    "vector_store = PineconeVectorStore(index=index, embedding=embeddings)\n"
   ]
  },
  {
   "cell_type": "code",
   "execution_count": 45,
   "id": "675db912",
   "metadata": {},
   "outputs": [],
   "source": [
    "from langchain_core.documents import Document\n",
    "# How pinecone expects each chunk to be\n",
    "docs = [Document(page_content=\"The description of this item is:\"+ row['ITEM Description'] + \"/nThe description of the goods is:\"+row[\"GOEDEREN OMSCHRIJVING\"],metadata={\"desc\":row[\"ITEM Description\"],\"code\":row[\"Goederen Code\"],\"gdesc\":row[\"GOEDEREN OMSCHRIJVING\"],\"category\":\"NaN\"}) for index, row in df.iterrows()]\n"
   ]
  },
  {
   "cell_type": "code",
   "execution_count": 46,
   "id": "81589dbd",
   "metadata": {},
   "outputs": [
    {
     "data": {
      "text/plain": [
       "[Document(metadata={'desc': 'Chemical Guys AIR_301_04 Sample Kit', 'code': 33073000, 'gdesc': 'LUCHTVERFRISSER', 'category': 'NaN'}, page_content='The description of this item is:Chemical Guys AIR_301_04 Sample Kit/nThe description of the goods is:LUCHTVERFRISSER'),\n",
       " Document(metadata={'desc': 'LITTLE TREES Car Air Freshener (Cherry)', 'code': 33073000, 'gdesc': 'LUCHTVERFRISSER', 'category': 'NaN'}, page_content='The description of this item is:LITTLE TREES Car Air Freshener (Cherry)/nThe description of the goods is:LUCHTVERFRISSER'),\n",
       " Document(metadata={'desc': 'LITTLE TREES Car Air Freshener (Watermelon)', 'code': 33073000, 'gdesc': 'LUCHTVERFRISSER', 'category': 'NaN'}, page_content='The description of this item is:LITTLE TREES Car Air Freshener (Watermelon)/nThe description of the goods is:LUCHTVERFRISSER'),\n",
       " Document(metadata={'desc': 'Peach Berry Car Air Fresheners', 'code': 33073000, 'gdesc': 'LUCHTVERFRISSER', 'category': 'NaN'}, page_content='The description of this item is:Peach Berry Car Air Fresheners/nThe description of the goods is:LUCHTVERFRISSER'),\n",
       " Document(metadata={'desc': 'Air Jungles New Car Scent Clip', 'code': 33073000, 'gdesc': 'LUCHTVERFRISSER', 'category': 'NaN'}, page_content='The description of this item is:Air Jungles New Car Scent Clip/nThe description of the goods is:LUCHTVERFRISSER'),\n",
       " Document(metadata={'desc': 'Little Trees Bubble Gum Air Freshener', 'code': 33073000, 'gdesc': 'LUCHTVERFRISSER', 'category': 'NaN'}, page_content='The description of this item is:Little Trees Bubble Gum Air Freshener/nThe description of the goods is:LUCHTVERFRISSER'),\n",
       " Document(metadata={'desc': 'Chemical Guys Cherry Blast Freshener', 'code': 33073000, 'gdesc': 'LUCHTVERFRISSER', 'category': 'NaN'}, page_content='The description of this item is:Chemical Guys Cherry Blast Freshener/nThe description of the goods is:LUCHTVERFRISSER'),\n",
       " Document(metadata={'desc': 'Chemical Guys New Car Smell Freshener', 'code': 33073000, 'gdesc': 'LUCHTVERFRISSER', 'category': 'NaN'}, page_content='The description of this item is:Chemical Guys New Car Smell Freshener/nThe description of the goods is:LUCHTVERFRISSER'),\n",
       " Document(metadata={'desc': 'Glad ForceFlex Trash Bags', 'code': 39249090, 'gdesc': 'PLASTIEK HOES', 'category': 'NaN'}, page_content='The description of this item is:Glad ForceFlex Trash Bags/nThe description of the goods is:PLASTIEK HOES'),\n",
       " Document(metadata={'desc': 'TOMALL Vinyl Reflective Stickers', 'code': 95051000, 'gdesc': 'STRIP LICHTEN', 'category': 'NaN'}, page_content='The description of this item is:TOMALL Vinyl Reflective Stickers/nThe description of the goods is:STRIP LICHTEN'),\n",
       " Document(metadata={'desc': 'Schenley Steam Mop Cleaner', 'code': 85094000, 'gdesc': 'MENGMACHINE', 'category': 'NaN'}, page_content='The description of this item is:Schenley Steam Mop Cleaner/nThe description of the goods is:MENGMACHINE'),\n",
       " Document(metadata={'desc': 'Govee Car LED Lights', 'code': 94054050, 'gdesc': 'METALEN LAMPEN', 'category': 'NaN'}, page_content='The description of this item is:Govee Car LED Lights/nThe description of the goods is:METALEN LAMPEN'),\n",
       " Document(metadata={'desc': 'Mini Displayport to HDMI Adapter', 'code': 84733000, 'gdesc': 'COMPUTER DELEN', 'category': 'NaN'}, page_content='The description of this item is:Mini Displayport to HDMI Adapter/nThe description of the goods is:COMPUTER DELEN'),\n",
       " Document(metadata={'desc': 'MacBook Air 13\" Battery', 'code': 85078000, 'gdesc': 'BATTERIJEN', 'category': 'NaN'}, page_content='The description of this item is:MacBook Air 13\" Battery/nThe description of the goods is:BATTERIJEN'),\n",
       " Document(metadata={'desc': 'Knife Sharpening Stone', 'code': 82141000, 'gdesc': 'POTLOODSLIJPERS', 'category': 'NaN'}, page_content='The description of this item is:Knife Sharpening Stone/nThe description of the goods is:POTLOODSLIJPERS'),\n",
       " Document(metadata={'desc': 'Cordless LED Table Lamp', 'code': 94054050, 'gdesc': 'METALEN LAMPEN', 'category': 'NaN'}, page_content='The description of this item is:Cordless LED Table Lamp/nThe description of the goods is:METALEN LAMPEN'),\n",
       " Document(metadata={'desc': 'konhill Men’s Fashion Sneakers', 'code': 64051000, 'gdesc': 'SCHOENEN', 'category': 'NaN'}, page_content='The description of this item is:konhill Men’s Fashion Sneakers/nThe description of the goods is:SCHOENEN'),\n",
       " Document(metadata={'desc': 'Looft Air Lighter X (Charcoal Starter)', 'code': 96132090, 'gdesc': 'GASAANSTEKERS', 'category': 'NaN'}, page_content='The description of this item is:Looft Air Lighter X (Charcoal Starter)/nThe description of the goods is:GASAANSTEKERS'),\n",
       " Document(metadata={'desc': 'Rain Shower Head (LED)', 'code': 84818000, 'gdesc': 'KRANEN', 'category': 'NaN'}, page_content='The description of this item is:Rain Shower Head (LED)/nThe description of the goods is:KRANEN'),\n",
       " Document(metadata={'desc': 'Movie DUNE PART 2 (AMC Exclusive)', 'code': 85238000, 'gdesc': 'CD-PLATEN', 'category': 'NaN'}, page_content='The description of this item is:Movie DUNE PART 2 (AMC Exclusive)/nThe description of the goods is:CD-PLATEN'),\n",
       " Document(metadata={'desc': 'SHIEGLAM Floral Blush Palette', 'code': 33049900, 'gdesc': 'OPMAAKMIDDEL', 'category': 'NaN'}, page_content='The description of this item is:SHIEGLAM Floral Blush Palette/nThe description of the goods is:OPMAAKMIDDEL'),\n",
       " Document(metadata={'desc': 'SHIEGLAM Foundation Stick', 'code': 33049900, 'gdesc': 'OPMAAKMIDDEL', 'category': 'NaN'}, page_content='The description of this item is:SHIEGLAM Foundation Stick/nThe description of the goods is:OPMAAKMIDDEL'),\n",
       " Document(metadata={'desc': 'SHIEGLAM Smart Cookie Palette', 'code': 33049900, 'gdesc': 'OPMAAKMIDDEL', 'category': 'NaN'}, page_content='The description of this item is:SHIEGLAM Smart Cookie Palette/nThe description of the goods is:OPMAAKMIDDEL'),\n",
       " Document(metadata={'desc': 'SHIEGLAM Cream Concealer', 'code': 33049900, 'gdesc': 'OPMAAKMIDDEL', 'category': 'NaN'}, page_content='The description of this item is:SHIEGLAM Cream Concealer/nThe description of the goods is:OPMAAKMIDDEL'),\n",
       " Document(metadata={'desc': 'SHIEGLAM Matte Foundation', 'code': 33049900, 'gdesc': 'OPMAAKMIDDEL', 'category': 'NaN'}, page_content='The description of this item is:SHIEGLAM Matte Foundation/nThe description of the goods is:OPMAAKMIDDEL'),\n",
       " Document(metadata={'desc': 'SHIEGLAM Lip Tint', 'code': 33049900, 'gdesc': 'OPMAAKMIDDEL', 'category': 'NaN'}, page_content='The description of this item is:SHIEGLAM Lip Tint/nThe description of the goods is:OPMAAKMIDDEL'),\n",
       " Document(metadata={'desc': 'SHIEGLAM Setting Powder', 'code': 33049900, 'gdesc': 'OPMAAKMIDDEL', 'category': 'NaN'}, page_content='The description of this item is:SHIEGLAM Setting Powder/nThe description of the goods is:OPMAAKMIDDEL'),\n",
       " Document(metadata={'desc': 'SHIEGLAM Setting Spray', 'code': 33049900, 'gdesc': 'OPMAAKMIDDEL', 'category': 'NaN'}, page_content='The description of this item is:SHIEGLAM Setting Spray/nThe description of the goods is:OPMAAKMIDDEL'),\n",
       " Document(metadata={'desc': 'SHIEGLAM Powder Foundation', 'code': 33049900, 'gdesc': 'OPMAAKMIDDEL', 'category': 'NaN'}, page_content='The description of this item is:SHIEGLAM Powder Foundation/nThe description of the goods is:OPMAAKMIDDEL'),\n",
       " Document(metadata={'desc': 'SHIEGLAM Lock-D In Spray', 'code': 33049900, 'gdesc': 'OPMAAKMIDDEL', 'category': 'NaN'}, page_content='The description of this item is:SHIEGLAM Lock-D In Spray/nThe description of the goods is:OPMAAKMIDDEL'),\n",
       " Document(metadata={'desc': 'SHIEGLAM Volume Mascara', 'code': 33049900, 'gdesc': 'OPMAAKMIDDEL', 'category': 'NaN'}, page_content='The description of this item is:SHIEGLAM Volume Mascara/nThe description of the goods is:OPMAAKMIDDEL'),\n",
       " Document(metadata={'desc': 'SHIEGLAM Cream Bronzer', 'code': 33049900, 'gdesc': 'OPMAAKMIDDEL', 'category': 'NaN'}, page_content='The description of this item is:SHIEGLAM Cream Bronzer/nThe description of the goods is:OPMAAKMIDDEL'),\n",
       " Document(metadata={'desc': 'Silicone Shockproof Phone Case', 'code': 39269090, 'gdesc': 'NAGEL CHARMES', 'category': 'NaN'}, page_content='The description of this item is:Silicone Shockproof Phone Case/nThe description of the goods is:NAGEL CHARMES'),\n",
       " Document(metadata={'desc': '40\" Jumbo Gold Foil Balloons', 'code': 95059000, 'gdesc': 'FEEST ARTIKELEN', 'category': 'NaN'}, page_content='The description of this item is:40\" Jumbo Gold Foil Balloons/nThe description of the goods is:FEEST ARTIKELEN'),\n",
       " Document(metadata={'desc': '18K Gold Plated Toe Ring', 'code': 71171910, 'gdesc': 'ONEDELE LIJFSIERADEN', 'category': 'NaN'}, page_content='The description of this item is:18K Gold Plated Toe Ring/nThe description of the goods is:ONEDELE LIJFSIERADEN'),\n",
       " Document(metadata={'desc': 'Gold Carbide Nail Drill Bit', 'code': 82142000, 'gdesc': 'PEDICURE GEREEDSCHAPPEN', 'category': 'NaN'}, page_content='The description of this item is:Gold Carbide Nail Drill Bit/nThe description of the goods is:PEDICURE GEREEDSCHAPPEN'),\n",
       " Document(metadata={'desc': '14Pcs Gel Nail Polish Set', 'code': 33049900, 'gdesc': 'OPMAAKMIDDEL', 'category': 'NaN'}, page_content='The description of this item is:14Pcs Gel Nail Polish Set/nThe description of the goods is:OPMAAKMIDDEL'),\n",
       " Document(metadata={'desc': 'Blackhead Remover Pore Strips', 'code': 30051000, 'gdesc': 'PLEISTERS', 'category': 'NaN'}, page_content='The description of this item is:Blackhead Remover Pore Strips/nThe description of the goods is:PLEISTERS'),\n",
       " Document(metadata={'desc': 'Pink Lace Cami Slip Dress', 'code': 61042200, 'gdesc': 'DAMES KLEDING', 'category': 'NaN'}, page_content='The description of this item is:Pink Lace Cami Slip Dress/nThe description of the goods is:DAMES KLEDING'),\n",
       " Document(metadata={'desc': 'Crystal Healing Adjustable Ring', 'code': 71171910, 'gdesc': 'ONEDELE LIJFSIERADEN', 'category': 'NaN'}, page_content='The description of this item is:Crystal Healing Adjustable Ring/nThe description of the goods is:ONEDELE LIJFSIERADEN'),\n",
       " Document(metadata={'desc': 'Happy Birthday Acrylic Cake Topper', 'code': 95059000, 'gdesc': 'FEEST ARTIKELEN', 'category': 'NaN'}, page_content='The description of this item is:Happy Birthday Acrylic Cake Topper/nThe description of the goods is:FEEST ARTIKELEN'),\n",
       " Document(metadata={'desc': 'Blue Birthday Party Decoration Set', 'code': 95059000, 'gdesc': 'FEEST ARTIKELEN', 'category': 'NaN'}, page_content='The description of this item is:Blue Birthday Party Decoration Set/nThe description of the goods is:FEEST ARTIKELEN'),\n",
       " Document(metadata={'desc': 'Pink Metal Nail Brush', 'code': 82142000, 'gdesc': 'PEDICURE GEREEDSCHAPPEN', 'category': 'NaN'}, page_content='The description of this item is:Pink Metal Nail Brush/nThe description of the goods is:PEDICURE GEREEDSCHAPPEN'),\n",
       " Document(metadata={'desc': 'Personalized Stainless Steel Bracelet', 'code': 71171910, 'gdesc': 'ONEDELE LIJFSIERADEN', 'category': 'NaN'}, page_content='The description of this item is:Personalized Stainless Steel Bracelet/nThe description of the goods is:ONEDELE LIJFSIERADEN'),\n",
       " Document(metadata={'desc': 'Valentine’s Day Sexy Card', 'code': 49119100, 'gdesc': 'INVITATIE KAARTEN', 'category': 'NaN'}, page_content='The description of this item is:Valentine’s Day Sexy Card/nThe description of the goods is:INVITATIE KAARTEN'),\n",
       " Document(metadata={'desc': 'Custom Text Gift Jewelry Set', 'code': 71171910, 'gdesc': 'ONEDELE LIJFSIERADEN', 'category': 'NaN'}, page_content='The description of this item is:Custom Text Gift Jewelry Set/nThe description of the goods is:ONEDELE LIJFSIERADEN'),\n",
       " Document(metadata={'desc': 'SHEIN High Waisted Leggings', 'code': 61042200, 'gdesc': 'DAMES KLEDING', 'category': 'NaN'}, page_content='The description of this item is:SHEIN High Waisted Leggings/nThe description of the goods is:DAMES KLEDING'),\n",
       " Document(metadata={'desc': 'Sexy Camisole Nightgown', 'code': 61082100, 'gdesc': 'DAMES ONDERGOED', 'category': 'NaN'}, page_content='The description of this item is:Sexy Camisole Nightgown/nThe description of the goods is:DAMES ONDERGOED'),\n",
       " Document(metadata={'desc': '1000pcs Balloon Glue Dots', 'code': 59061000, 'gdesc': 'PLAKBAND', 'category': 'NaN'}, page_content='The description of this item is:1000pcs Balloon Glue Dots/nThe description of the goods is:PLAKBAND'),\n",
       " Document(metadata={'desc': 'Glitter Balloons (18pcs)', 'code': 95059000, 'gdesc': 'FEEST ARTIKELEN', 'category': 'NaN'}, page_content='The description of this item is:Glitter Balloons (18pcs)/nThe description of the goods is:FEEST ARTIKELEN'),\n",
       " Document(metadata={'desc': '300pcs Lint Free Nail Wipes', 'code': 34011900, 'gdesc': 'NATTE DOEKJES', 'category': 'NaN'}, page_content='The description of this item is:300pcs Lint Free Nail Wipes/nThe description of the goods is:NATTE DOEKJES'),\n",
       " Document(metadata={'desc': '24pcs LED Small Candles', 'code': 85131000, 'gdesc': 'LAMPEN', 'category': 'NaN'}, page_content='The description of this item is:24pcs LED Small Candles/nThe description of the goods is:LAMPEN'),\n",
       " Document(metadata={'desc': 'Dog Training Shock Collar', 'code': 42010000, 'gdesc': 'HONDEN LEIBANDEN', 'category': 'NaN'}, page_content='The description of this item is:Dog Training Shock Collar/nThe description of the goods is:HONDEN LEIBANDEN'),\n",
       " Document(metadata={'desc': 'Women’s Asymmetrical Swimsuit (TEMU)', 'code': 61124100, 'gdesc': 'BADPAK', 'category': 'NaN'}, page_content='The description of this item is:Women’s Asymmetrical Swimsuit (TEMU)/nThe description of the goods is:BADPAK'),\n",
       " Document(metadata={'desc': 'V-Neck Jumpsuit (TEMU)', 'code': 61042200, 'gdesc': 'DAMES KLEDING', 'category': 'NaN'}, page_content='The description of this item is:V-Neck Jumpsuit (TEMU)/nThe description of the goods is:DAMES KLEDING'),\n",
       " Document(metadata={'desc': 'Color Block Cami Dress (TEMU)', 'code': 61042200, 'gdesc': 'DAMES KLEDING', 'category': 'NaN'}, page_content='The description of this item is:Color Block Cami Dress (TEMU)/nThe description of the goods is:DAMES KLEDING'),\n",
       " Document(metadata={'desc': '3-Piece Bikini Set (TEMU)', 'code': 61124100, 'gdesc': 'BADPAK', 'category': 'NaN'}, page_content='The description of this item is:3-Piece Bikini Set (TEMU)/nThe description of the goods is:BADPAK'),\n",
       " Document(metadata={'desc': 'Polyester Maxi Dress (TEMU)', 'code': 61042200, 'gdesc': 'DAMES KLEDING', 'category': 'NaN'}, page_content='The description of this item is:Polyester Maxi Dress (TEMU)/nThe description of the goods is:DAMES KLEDING'),\n",
       " Document(metadata={'desc': 'Floral Long Sleeve Shirt (TEMU)', 'code': 61042200, 'gdesc': 'DAMES KLEDING', 'category': 'NaN'}, page_content='The description of this item is:Floral Long Sleeve Shirt (TEMU)/nThe description of the goods is:DAMES KLEDING'),\n",
       " Document(metadata={'desc': 'Ball Sleeve Crop Top (TEMU)', 'code': 61042200, 'gdesc': 'DAMES KLEDING', 'category': 'NaN'}, page_content='The description of this item is:Ball Sleeve Crop Top (TEMU)/nThe description of the goods is:DAMES KLEDING'),\n",
       " Document(metadata={'desc': 'Loose Fit Tank Romper (TEMU)', 'code': 61042200, 'gdesc': 'DAMES KLEDING', 'category': 'NaN'}, page_content='The description of this item is:Loose Fit Tank Romper (TEMU)/nThe description of the goods is:DAMES KLEDING'),\n",
       " Document(metadata={'desc': '3D Print T-Shirt (TEMU)', 'code': 61091000, 'gdesc': 'T-HEMDEN', 'category': 'NaN'}, page_content='The description of this item is:3D Print T-Shirt (TEMU)/nThe description of the goods is:T-HEMDEN'),\n",
       " Document(metadata={'desc': 'Off-Shoulder Jumpsuit (TEMU)', 'code': 61042200, 'gdesc': 'DAMES KLEDING', 'category': 'NaN'}, page_content='The description of this item is:Off-Shoulder Jumpsuit (TEMU)/nThe description of the goods is:DAMES KLEDING'),\n",
       " Document(metadata={'desc': 'ISO90607 Printed Dress (TEMU)', 'code': 61042200, 'gdesc': 'DAMES KLEDING', 'category': 'NaN'}, page_content='The description of this item is:ISO90607 Printed Dress (TEMU)/nThe description of the goods is:DAMES KLEDING'),\n",
       " Document(metadata={'desc': 'Leopard Print One-Piece Swimsuit (TEMU)', 'code': 61124100, 'gdesc': 'BADPAK', 'category': 'NaN'}, page_content='The description of this item is:Leopard Print One-Piece Swimsuit (TEMU)/nThe description of the goods is:BADPAK'),\n",
       " Document(metadata={'desc': 'Flora Print Blouse (TEMU)', 'code': 61042200, 'gdesc': 'DAMES KLEDING', 'category': 'NaN'}, page_content='The description of this item is:Flora Print Blouse (TEMU)/nThe description of the goods is:DAMES KLEDING'),\n",
       " Document(metadata={'desc': 'Crew Neck T-Shirt (TEMU)', 'code': 61091000, 'gdesc': 'T-HEMDEN', 'category': 'NaN'}, page_content='The description of this item is:Crew Neck T-Shirt (TEMU)/nThe description of the goods is:T-HEMDEN'),\n",
       " Document(metadata={'desc': 'Satin Women’s Slip Dress (TEMU)', 'code': 61042200, 'gdesc': 'DAMES KLEDING', 'category': 'NaN'}, page_content='The description of this item is:Satin Women’s Slip Dress (TEMU)/nThe description of the goods is:DAMES KLEDING'),\n",
       " Document(metadata={'desc': 'Off-Shoulder Halter Top (TEMU)', 'code': 61124100, 'gdesc': 'BADPAK', 'category': 'NaN'}, page_content='The description of this item is:Off-Shoulder Halter Top (TEMU)/nThe description of the goods is:BADPAK'),\n",
       " Document(metadata={'desc': 'ZywOo The Chosen Mouse - Mini', 'code': 84733000, 'gdesc': 'COMPUTER DELEN', 'category': 'NaN'}, page_content='The description of this item is:ZywOo The Chosen Mouse - Mini/nThe description of the goods is:COMPUTER DELEN'),\n",
       " Document(metadata={'desc': 'LEGO Art Keith Haring Building Set', 'code': 95030000, 'gdesc': 'SPEELGOED', 'category': 'NaN'}, page_content='The description of this item is:LEGO Art Keith Haring Building Set/nThe description of the goods is:SPEELGOED'),\n",
       " Document(metadata={'desc': \"SHEIN BAE Plus Size Women's Dress\", 'code': 61042200, 'gdesc': 'DAMES KLEDING', 'category': 'NaN'}, page_content=\"The description of this item is:SHEIN BAE Plus Size Women's Dress/nThe description of the goods is:DAMES KLEDING\"),\n",
       " Document(metadata={'desc': 'Plus Size Fantasy Elegant Lingerie Set', 'code': 61082100, 'gdesc': 'DAMES ONDERGOED', 'category': 'NaN'}, page_content='The description of this item is:Plus Size Fantasy Elegant Lingerie Set/nThe description of the goods is:DAMES ONDERGOED'),\n",
       " Document(metadata={'desc': 'SHEIN Baby Boys 3-Piece Suit Set (x2)', 'code': 61112000, 'gdesc': 'BABY KLEDING', 'category': 'NaN'}, page_content='The description of this item is:SHEIN Baby Boys 3-Piece Suit Set (x2)/nThe description of the goods is:BABY KLEDING'),\n",
       " Document(metadata={'desc': 'SHEIN Baby Boys Denim Jacket & Jeans Set (x2)', 'code': 61112000, 'gdesc': 'BABY KLEDING', 'category': 'NaN'}, page_content='The description of this item is:SHEIN Baby Boys Denim Jacket & Jeans Set (x2)/nThe description of the goods is:BABY KLEDING'),\n",
       " Document(metadata={'desc': 'RNOSIGO Rechargeable Headlamp (x2)', 'code': 85131000, 'gdesc': 'DRAAGBARE LAMPEN', 'category': 'NaN'}, page_content='The description of this item is:RNOSIGO Rechargeable Headlamp (x2)/nThe description of the goods is:DRAAGBARE LAMPEN'),\n",
       " Document(metadata={'desc': 'BooYu Emergency Strobe Lights Bar', 'code': 85122000, 'gdesc': 'AUTOLAMPEN', 'category': 'NaN'}, page_content='The description of this item is:BooYu Emergency Strobe Lights Bar/nThe description of the goods is:AUTOLAMPEN'),\n",
       " Document(metadata={'desc': 'Portable Washboard & Laundry Basin Set', 'code': 42033000, 'gdesc': 'BERGINGSMIDDEL', 'category': 'NaN'}, page_content='The description of this item is:Portable Washboard & Laundry Basin Set/nThe description of the goods is:BERGINGSMIDDEL'),\n",
       " Document(metadata={'desc': 'RAINSMORE Leather Laptop Tote Bag', 'code': 42029900, 'gdesc': 'TASSEN', 'category': 'NaN'}, page_content='The description of this item is:RAINSMORE Leather Laptop Tote Bag/nThe description of the goods is:TASSEN'),\n",
       " Document(metadata={'desc': 'ASUS Dual GeForce RTX 5060 GPU', 'code': 84733000, 'gdesc': 'COMPUTER DELEN', 'category': 'NaN'}, page_content='The description of this item is:ASUS Dual GeForce RTX 5060 GPU/nThe description of the goods is:COMPUTER DELEN'),\n",
       " Document(metadata={'desc': 'Torchbeam Engine Motor Mount (Toyota)', 'code': 87089990, 'gdesc': 'AUTO DELEN', 'category': 'NaN'}, page_content='The description of this item is:Torchbeam Engine Motor Mount (Toyota)/nThe description of the goods is:AUTO DELEN'),\n",
       " Document(metadata={'desc': 'UDMTOY LED License Plate Light Kit', 'code': 85122000, 'gdesc': 'AUTOLAMPEN', 'category': 'NaN'}, page_content='The description of this item is:UDMTOY LED License Plate Light Kit/nThe description of the goods is:AUTOLAMPEN'),\n",
       " Document(metadata={'desc': 'Cantu Avocado Hydrating Conditioner (Pack of 2)', 'code': 33051000, 'gdesc': 'SHAMPOO', 'category': 'NaN'}, page_content='The description of this item is:Cantu Avocado Hydrating Conditioner (Pack of 2)/nThe description of the goods is:SHAMPOO'),\n",
       " Document(metadata={'desc': 'KIWEN Sunglasses Holders for Car Visor', 'code': 39269090, 'gdesc': 'PLASTIEK KLEMMEN', 'category': 'NaN'}, page_content='The description of this item is:KIWEN Sunglasses Holders for Car Visor/nThe description of the goods is:PLASTIEK KLEMMEN'),\n",
       " Document(metadata={'desc': 'Winter Hat for Kids Toddler (Rainbow)', 'code': 65040000, 'gdesc': 'PETTEN', 'category': 'NaN'}, page_content='The description of this item is:Winter Hat for Kids Toddler (Rainbow)/nThe description of the goods is:PETTEN'),\n",
       " Document(metadata={'desc': 'Kliavoro Girls Fleece Lined Leggings', 'code': 61112000, 'gdesc': 'BABY KLEDING', 'category': 'NaN'}, page_content='The description of this item is:Kliavoro Girls Fleece Lined Leggings/nThe description of the goods is:BABY KLEDING'),\n",
       " Document(metadata={'desc': \"Hoover Women's Winter Wool Coat\", 'code': 61042200, 'gdesc': 'DAMES KLEDING', 'category': 'NaN'}, page_content=\"The description of this item is:Hoover Women's Winter Wool Coat/nThe description of the goods is:DAMES KLEDING\"),\n",
       " Document(metadata={'desc': \"The Children's Place Denim Jeggings (3 Pack)\", 'code': 61112000, 'gdesc': 'BABY KLEDING', 'category': 'NaN'}, page_content=\"The description of this item is:The Children's Place Denim Jeggings (3 Pack)/nThe description of the goods is:BABY KLEDING\"),\n",
       " Document(metadata={'desc': 'Saloogoe Black Sweaters for Women', 'code': 61042200, 'gdesc': 'DAMES KLEDING', 'category': 'NaN'}, page_content='The description of this item is:Saloogoe Black Sweaters for Women/nThe description of the goods is:DAMES KLEDING'),\n",
       " Document(metadata={'desc': 'VERONZ Winter Scarf', 'code': 61112000, 'gdesc': 'BABY KLEDING', 'category': 'NaN'}, page_content='The description of this item is:VERONZ Winter Scarf/nThe description of the goods is:BABY KLEDING'),\n",
       " Document(metadata={'desc': \"PRETTYGARDEN Women's Cable Knit Sweater\", 'code': 61042200, 'gdesc': 'DAMES KLEDING', 'category': 'NaN'}, page_content=\"The description of this item is:PRETTYGARDEN Women's Cable Knit Sweater/nThe description of the goods is:DAMES KLEDING\"),\n",
       " Document(metadata={'desc': \"ANRABESS Women's Oversized Turtleneck Sweater\", 'code': 61042200, 'gdesc': 'DAMES KLEDING', 'category': 'NaN'}, page_content=\"The description of this item is:ANRABESS Women's Oversized Turtleneck Sweater/nThe description of the goods is:DAMES KLEDING\"),\n",
       " Document(metadata={'desc': \"Cooraby 3 Pack Baby Girls' Sweatshirt\", 'code': 61112000, 'gdesc': 'BABY KLEDING', 'category': 'NaN'}, page_content=\"The description of this item is:Cooraby 3 Pack Baby Girls' Sweatshirt/nThe description of the goods is:BABY KLEDING\"),\n",
       " Document(metadata={'desc': \"Amazon Essentials Women's Combat Boots\", 'code': 64059000, 'gdesc': 'DAMES SCHOENEN', 'category': 'NaN'}, page_content=\"The description of this item is:Amazon Essentials Women's Combat Boots/nThe description of the goods is:DAMES SCHOENEN\"),\n",
       " Document(metadata={'desc': 'Arshiner Kid Waterproof Raincoat', 'code': 61112000, 'gdesc': 'BABY KLEDING', 'category': 'NaN'}, page_content='The description of this item is:Arshiner Kid Waterproof Raincoat/nThe description of the goods is:BABY KLEDING'),\n",
       " Document(metadata={'desc': 'TAGRY Bluetooth Headphones True Wireless Earbuds', 'code': 85183000, 'gdesc': 'HOOFDTELEFOONS', 'category': 'NaN'}, page_content='The description of this item is:TAGRY Bluetooth Headphones True Wireless Earbuds/nThe description of the goods is:HOOFDTELEFOONS'),\n",
       " Document(metadata={'desc': \"BENSLING Girl's Hoodie Trench Coat\", 'code': 61112000, 'gdesc': 'BABY KLEDING', 'category': 'NaN'}, page_content=\"The description of this item is:BENSLING Girl's Hoodie Trench Coat/nThe description of the goods is:BABY KLEDING\"),\n",
       " Document(metadata={'desc': 'BOMDEALS Cute Toddler Girls Sweatsuit', 'code': 61112000, 'gdesc': 'BABY KLEDING', 'category': 'NaN'}, page_content='The description of this item is:BOMDEALS Cute Toddler Girls Sweatsuit/nThe description of the goods is:BABY KLEDING'),\n",
       " Document(metadata={'desc': 'SHEWIN Fall Sweaters for Women', 'code': 61042200, 'gdesc': 'DAMES KLEDING', 'category': 'NaN'}, page_content='The description of this item is:SHEWIN Fall Sweaters for Women/nThe description of the goods is:DAMES KLEDING'),\n",
       " Document(metadata={'desc': 'Schick Intuition Razors for Women', 'code': 82122000, 'gdesc': 'SNIJMESJES', 'category': 'NaN'}, page_content='The description of this item is:Schick Intuition Razors for Women/nThe description of the goods is:SNIJMESJES'),\n",
       " Document(metadata={'desc': \"Amazon Essentials Women's Pajama Set\", 'code': 61083100, 'gdesc': \"DAMES PYJAMA'S\", 'category': 'NaN'}, page_content=\"The description of this item is:Amazon Essentials Women's Pajama Set/nThe description of the goods is:DAMES PYJAMA'S\"),\n",
       " Document(metadata={'desc': 'Ekouaer Womens 2 Pack Pajama Set (x2)', 'code': 61083100, 'gdesc': \"DAMES PYJAMA'S\", 'category': 'NaN'}, page_content=\"The description of this item is:Ekouaer Womens 2 Pack Pajama Set (x2)/nThe description of the goods is:DAMES PYJAMA'S\"),\n",
       " Document(metadata={'desc': 'LOVEVOOK Laptop Backpack for Women', 'code': 42029900, 'gdesc': 'TASSEN', 'category': 'NaN'}, page_content='The description of this item is:LOVEVOOK Laptop Backpack for Women/nThe description of the goods is:TASSEN'),\n",
       " Document(metadata={'desc': 'TePe Gentle Care Soft Toothbrush', 'code': 85167900, 'gdesc': 'ELEKTRISCHE TANDBORSTELS', 'category': 'NaN'}, page_content='The description of this item is:TePe Gentle Care Soft Toothbrush/nThe description of the goods is:ELEKTRISCHE TANDBORSTELS'),\n",
       " Document(metadata={'desc': 'Perfect Remedy Wisdom Teeth Ice Pack Head Wrap', 'code': 63079090, 'gdesc': 'IJSZAKKEN', 'category': 'NaN'}, page_content='The description of this item is:Perfect Remedy Wisdom Teeth Ice Pack Head Wrap/nThe description of the goods is:IJSZAKKEN'),\n",
       " Document(metadata={'desc': 'Wisdom Teeth Syringe (5 Pack)', 'code': 30064000, 'gdesc': 'TANDCEMENT', 'category': 'NaN'}, page_content='The description of this item is:Wisdom Teeth Syringe (5 Pack)/nThe description of the goods is:TANDCEMENT'),\n",
       " Document(metadata={'desc': 'Dental Cotton Rolls (Pack of 50)', 'code': 30064000, 'gdesc': 'TANDCEMENT', 'category': 'NaN'}, page_content='The description of this item is:Dental Cotton Rolls (Pack of 50)/nThe description of the goods is:TANDCEMENT'),\n",
       " Document(metadata={'desc': 'SHEIN: Green Striped Button Shirt', 'code': 61042200, 'gdesc': 'DAMES KLEDING', 'category': 'NaN'}, page_content='The description of this item is:SHEIN: Green Striped Button Shirt/nThe description of the goods is:DAMES KLEDING'),\n",
       " Document(metadata={'desc': \"SHEIN: Leopard Print Shirt (Men's)\", 'code': 61032200, 'gdesc': 'HEREN KLEDING', 'category': 'NaN'}, page_content=\"The description of this item is:SHEIN: Leopard Print Shirt (Men's)/nThe description of the goods is:HEREN KLEDING\"),\n",
       " Document(metadata={'desc': 'SHEIN: Swimsuit Cover-Up', 'code': 61124100, 'gdesc': 'BADPAK', 'category': 'NaN'}, page_content='The description of this item is:SHEIN: Swimsuit Cover-Up/nThe description of the goods is:BADPAK'),\n",
       " Document(metadata={'desc': 'SHEIN: Halter Long Dress', 'code': 61042200, 'gdesc': 'DAMES KLEDING', 'category': 'NaN'}, page_content='The description of this item is:SHEIN: Halter Long Dress/nThe description of the goods is:DAMES KLEDING'),\n",
       " Document(metadata={'desc': 'Texas Instruments TI-84 Plus CE Calculator', 'code': 84733000, 'gdesc': 'COMPUTER DELEN', 'category': 'NaN'}, page_content='The description of this item is:Texas Instruments TI-84 Plus CE Calculator/nThe description of the goods is:COMPUTER DELEN'),\n",
       " Document(metadata={'desc': 'Tommy Hilfiger Mens Jackson Backpack', 'code': 42029900, 'gdesc': 'TASSEN', 'category': 'NaN'}, page_content='The description of this item is:Tommy Hilfiger Mens Jackson Backpack/nThe description of the goods is:TASSEN'),\n",
       " Document(metadata={'desc': '6Pack Replacement Pencil Tips for Apple Pencil', 'code': 39249090, 'gdesc': 'PLASTIEK HOES', 'category': 'NaN'}, page_content='The description of this item is:6Pack Replacement Pencil Tips for Apple Pencil/nThe description of the goods is:PLASTIEK HOES'),\n",
       " Document(metadata={'desc': 'POWER-VOLUME BUTTON FLEX CABLE', 'code': 85177000, 'gdesc': 'TELEFOON DELEN', 'category': 'NaN'}, page_content='The description of this item is:POWER-VOLUME BUTTON FLEX CABLE/nThe description of the goods is:TELEFOON DELEN'),\n",
       " Document(metadata={'desc': 'MUSETEX ATX PC CASE PRE-INSTALL 6 PWM ARGB FANS (x2)', 'code': 42023900, 'gdesc': 'COMPUTER CASE', 'category': 'NaN'}, page_content='The description of this item is:MUSETEX ATX PC CASE PRE-INSTALL 6 PWM ARGB FANS (x2)/nThe description of the goods is:COMPUTER CASE'),\n",
       " Document(metadata={'desc': 'Various SHEIN Underwear & Sleepwear Items', 'code': 61082100, 'gdesc': 'DAMES ONDERGOED', 'category': 'NaN'}, page_content='The description of this item is:Various SHEIN Underwear & Sleepwear Items/nThe description of the goods is:DAMES ONDERGOED'),\n",
       " Document(metadata={'desc': \"Various SHEIN Women's Clothing Items\", 'code': 61042200, 'gdesc': 'DAMES KLEDING', 'category': 'NaN'}, page_content=\"The description of this item is:Various SHEIN Women's Clothing Items/nThe description of the goods is:DAMES KLEDING\"),\n",
       " Document(metadata={'desc': \"SHEIN: Men's Underwear (5pcs)\", 'code': 61071100, 'gdesc': 'HEREN ONDERGOED', 'category': 'NaN'}, page_content=\"The description of this item is:SHEIN: Men's Underwear (5pcs)/nThe description of the goods is:HEREN ONDERGOED\"),\n",
       " Document(metadata={'desc': \"SHEIN: Plaid Print Shirt (Men's)\", 'code': 61032200, 'gdesc': 'HEREN KLEDING', 'category': 'NaN'}, page_content=\"The description of this item is:SHEIN: Plaid Print Shirt (Men's)/nThe description of the goods is:HEREN KLEDING\"),\n",
       " Document(metadata={'desc': 'SHEIN: Baby Clothing Set (2pcs)', 'code': 61112000, 'gdesc': 'BABY KLEDING', 'category': 'NaN'}, page_content='The description of this item is:SHEIN: Baby Clothing Set (2pcs)/nThe description of the goods is:BABY KLEDING'),\n",
       " Document(metadata={'desc': 'Hapa Kristin Contact Lenses (3 pairs)', 'code': 90013000, 'gdesc': 'CONTACTLENZEN', 'category': 'NaN'}, page_content='The description of this item is:Hapa Kristin Contact Lenses (3 pairs)/nThe description of the goods is:CONTACTLENZEN'),\n",
       " Document(metadata={'desc': 'A-Premium Automatic Climate Control Module', 'code': 87089990, 'gdesc': 'AUTO DELEN', 'category': 'NaN'}, page_content='The description of this item is:A-Premium Automatic Climate Control Module/nThe description of the goods is:AUTO DELEN'),\n",
       " Document(metadata={'desc': \"Nike Flex Runner 4 Kids' Shoes\", 'code': 64041100, 'gdesc': 'SPORT SCHOENEN', 'category': 'NaN'}, page_content=\"The description of this item is:Nike Flex Runner 4 Kids' Shoes/nThe description of the goods is:SPORT SCHOENEN\"),\n",
       " Document(metadata={'desc': 'Nike Heritage Backpack', 'code': 42029900, 'gdesc': 'TASSEN', 'category': 'NaN'}, page_content='The description of this item is:Nike Heritage Backpack/nThe description of the goods is:TASSEN'),\n",
       " Document(metadata={'desc': 'Evolis Primacy 2 Color Ribbon', 'code': 49089000, 'gdesc': 'LABELS', 'category': 'NaN'}, page_content='The description of this item is:Evolis Primacy 2 Color Ribbon/nThe description of the goods is:LABELS'),\n",
       " Document(metadata={'desc': 'Evolis Primacy 2 Dual-Sided ID Card Printer', 'code': 84431200, 'gdesc': 'PRINTER', 'category': 'NaN'}, page_content='The description of this item is:Evolis Primacy 2 Dual-Sided ID Card Printer/nThe description of the goods is:PRINTER'),\n",
       " Document(metadata={'desc': 'Universal Garage Door Opener Keypad', 'code': 85269200, 'gdesc': 'AFSTAND BEDIENING', 'category': 'NaN'}, page_content='The description of this item is:Universal Garage Door Opener Keypad/nThe description of the goods is:AFSTAND BEDIENING'),\n",
       " Document(metadata={'desc': \"SHEIN: Men's Clothing Items (x2)\", 'code': 61032200, 'gdesc': 'HEREN KLEDING', 'category': 'NaN'}, page_content=\"The description of this item is:SHEIN: Men's Clothing Items (x2)/nThe description of the goods is:HEREN KLEDING\"),\n",
       " Document(metadata={'desc': \"SHEIN: Pink Dress (Women's)\", 'code': 61042200, 'gdesc': 'DAMES KLEDING', 'category': 'NaN'}, page_content=\"The description of this item is:SHEIN: Pink Dress (Women's)/nThe description of the goods is:DAMES KLEDING\"),\n",
       " Document(metadata={'desc': \"Vince Camuto Women's MYYLEE Loafer Flat\", 'code': 64051000, 'gdesc': 'SCHOENEN', 'category': 'NaN'}, page_content=\"The description of this item is:Vince Camuto Women's MYYLEE Loafer Flat/nThe description of the goods is:SCHOENEN\"),\n",
       " Document(metadata={'desc': 'Expandable Dish Drying Rack', 'code': 94037000, 'gdesc': 'KEUKENREK', 'category': 'NaN'}, page_content='The description of this item is:Expandable Dish Drying Rack/nThe description of the goods is:KEUKENREK'),\n",
       " Document(metadata={'desc': 'Steve Top Deep Fryer Pot with Basket', 'code': 73239300, 'gdesc': 'KEUKENGEREI', 'category': 'NaN'}, page_content='The description of this item is:Steve Top Deep Fryer Pot with Basket/nThe description of the goods is:KEUKENGEREI'),\n",
       " Document(metadata={'desc': 'Vans Knu Skool Shoe', 'code': 64051000, 'gdesc': 'SCHOENEN', 'category': 'NaN'}, page_content='The description of this item is:Vans Knu Skool Shoe/nThe description of the goods is:SCHOENEN'),\n",
       " Document(metadata={'desc': 'Aloruh Spring/Summer Vacation Beach [Item]', 'code': 61042200, 'gdesc': 'DAMES KLEDING', 'category': 'NaN'}, page_content='The description of this item is:Aloruh Spring/Summer Vacation Beach [Item]/nThe description of the goods is:DAMES KLEDING'),\n",
       " Document(metadata={'desc': 'Yala Ladies Eau De Toilette - 3.4 OZ', 'code': 33030010, 'gdesc': 'PARFUM', 'category': 'NaN'}, page_content='The description of this item is:Yala Ladies Eau De Toilette - 3.4 OZ/nThe description of the goods is:PARFUM'),\n",
       " Document(metadata={'desc': \"CUCCOO SZL Women's Pointed Toe Black High Heels\", 'code': 64051000, 'gdesc': 'DAMES SCHOENEN', 'category': 'NaN'}, page_content=\"The description of this item is:CUCCOO SZL Women's Pointed Toe Black High Heels/nThe description of the goods is:DAMES SCHOENEN\"),\n",
       " Document(metadata={'desc': 'Desire&culpt 1 Pc Women Sports Bra', 'code': 62121000, 'gdesc': 'BUSTEHOUDERS', 'category': 'NaN'}, page_content='The description of this item is:Desire&culpt 1 Pc Women Sports Bra/nThe description of the goods is:BUSTEHOUDERS'),\n",
       " Document(metadata={'desc': \"Elenzga New Women's Midi Dress\", 'code': 61042200, 'gdesc': 'DAMES KLEDING', 'category': 'NaN'}, page_content=\"The description of this item is:Elenzga New Women's Midi Dress/nThe description of the goods is:DAMES KLEDING\"),\n",
       " Document(metadata={'desc': 'Mi Lightweight Zipper Hobo Bag', 'code': 42029900, 'gdesc': 'TASSEN', 'category': 'NaN'}, page_content='The description of this item is:Mi Lightweight Zipper Hobo Bag/nThe description of the goods is:TASSEN'),\n",
       " Document(metadata={'desc': \"Women's Square Toe Stiletto High Heel Sandals\", 'code': 64051000, 'gdesc': 'DAMES SCHOENEN', 'category': 'NaN'}, page_content=\"The description of this item is:Women's Square Toe Stiletto High Heel Sandals/nThe description of the goods is:DAMES SCHOENEN\"),\n",
       " Document(metadata={'desc': \"3pcs Women's Golden Styling Buckle Belts\", 'code': 42033000, 'gdesc': 'RIEMEN', 'category': 'NaN'}, page_content=\"The description of this item is:3pcs Women's Golden Styling Buckle Belts/nThe description of the goods is:RIEMEN\"),\n",
       " Document(metadata={'desc': 'Valve Steam Deck 1TB Handheld Gaming Console', 'code': 95045000, 'gdesc': 'VIDEOSPEL', 'category': 'NaN'}, page_content='The description of this item is:Valve Steam Deck 1TB Handheld Gaming Console/nThe description of the goods is:VIDEOSPEL')]"
      ]
     },
     "execution_count": 46,
     "metadata": {},
     "output_type": "execute_result"
    }
   ],
   "source": [
    "docs # "
   ]
  },
  {
   "cell_type": "code",
   "execution_count": 52,
   "id": "9880cbc1",
   "metadata": {},
   "outputs": [
    {
     "name": "stdout",
     "output_type": "stream",
     "text": [
      "Current Batch Index is: ['Chemical Guys AIR_301_04 Sample Kit', 'LITTLE TREES Car Air Freshener (Cherry)', 'LITTLE TREES Car Air Freshener (Watermelon)', 'Peach Berry Car Air Fresheners', 'Air Jungles New Car Scent Clip', 'Little Trees Bubble Gum Air Freshener', 'Chemical Guys Cherry Blast Freshener', 'Chemical Guys New Car Smell Freshener', 'Glad ForceFlex Trash Bags', 'TOMALL Vinyl Reflective Stickers']\n",
      "Current Batch Index is: ['Schenley Steam Mop Cleaner', 'Govee Car LED Lights', 'Mini Displayport to HDMI Adapter', 'MacBook Air 13\" Battery', 'Knife Sharpening Stone', 'Cordless LED Table Lamp', 'konhill Mens Fashion Sneakers', 'Looft Air Lighter X (Charcoal Starter)', 'Rain Shower Head (LED)', 'Movie DUNE PART 2 (AMC Exclusive)']\n",
      "Current Batch Index is: ['SHIEGLAM Floral Blush Palette', 'SHIEGLAM Foundation Stick', 'SHIEGLAM Smart Cookie Palette', 'SHIEGLAM Cream Concealer', 'SHIEGLAM Matte Foundation', 'SHIEGLAM Lip Tint', 'SHIEGLAM Setting Powder', 'SHIEGLAM Setting Spray', 'SHIEGLAM Powder Foundation', 'SHIEGLAM Lock-D In Spray']\n",
      "Current Batch Index is: ['SHIEGLAM Volume Mascara', 'SHIEGLAM Cream Bronzer', 'Silicone Shockproof Phone Case', '40\" Jumbo Gold Foil Balloons', '18K Gold Plated Toe Ring', 'Gold Carbide Nail Drill Bit', '14Pcs Gel Nail Polish Set', 'Blackhead Remover Pore Strips', 'Pink Lace Cami Slip Dress', 'Crystal Healing Adjustable Ring']\n",
      "Current Batch Index is: ['Happy Birthday Acrylic Cake Topper', 'Blue Birthday Party Decoration Set', 'Pink Metal Nail Brush', 'Personalized Stainless Steel Bracelet', 'Valentines Day Sexy Card', 'Custom Text Gift Jewelry Set', 'SHEIN High Waisted Leggings', 'Sexy Camisole Nightgown', '1000pcs Balloon Glue Dots', 'Glitter Balloons (18pcs)']\n",
      "Current Batch Index is: ['300pcs Lint Free Nail Wipes', '24pcs LED Small Candles', 'Dog Training Shock Collar', 'Womens Asymmetrical Swimsuit (TEMU)', 'V-Neck Jumpsuit (TEMU)', 'Color Block Cami Dress (TEMU)', '3-Piece Bikini Set (TEMU)', 'Polyester Maxi Dress (TEMU)', 'Floral Long Sleeve Shirt (TEMU)', 'Ball Sleeve Crop Top (TEMU)']\n",
      "Current Batch Index is: ['Loose Fit Tank Romper (TEMU)', '3D Print T-Shirt (TEMU)', 'Off-Shoulder Jumpsuit (TEMU)', 'ISO90607 Printed Dress (TEMU)', 'Leopard Print One-Piece Swimsuit (TEMU)', 'Flora Print Blouse (TEMU)', 'Crew Neck T-Shirt (TEMU)', 'Satin Womens Slip Dress (TEMU)', 'Off-Shoulder Halter Top (TEMU)', 'ZywOo The Chosen Mouse - Mini']\n",
      "Current Batch Index is: ['LEGO Art Keith Haring Building Set', \"SHEIN BAE Plus Size Women's Dress\", 'Plus Size Fantasy Elegant Lingerie Set', 'SHEIN Baby Boys 3-Piece Suit Set (x2)', 'SHEIN Baby Boys Denim Jacket & Jeans Set (x2)', 'RNOSIGO Rechargeable Headlamp (x2)', 'BooYu Emergency Strobe Lights Bar', 'Portable Washboard & Laundry Basin Set', 'RAINSMORE Leather Laptop Tote Bag', 'ASUS Dual GeForce RTX 5060 GPU']\n",
      "Current Batch Index is: ['Torchbeam Engine Motor Mount (Toyota)', 'UDMTOY LED License Plate Light Kit', 'Cantu Avocado Hydrating Conditioner (Pack of 2)', 'KIWEN Sunglasses Holders for Car Visor', 'Winter Hat for Kids Toddler (Rainbow)', 'Kliavoro Girls Fleece Lined Leggings', \"Hoover Women's Winter Wool Coat\", \"The Children's Place Denim Jeggings (3 Pack)\", 'Saloogoe Black Sweaters for Women', 'VERONZ Winter Scarf']\n",
      "Current Batch Index is: [\"PRETTYGARDEN Women's Cable Knit Sweater\", \"ANRABESS Women's Oversized Turtleneck Sweater\", \"Cooraby 3 Pack Baby Girls' Sweatshirt\", \"Amazon Essentials Women's Combat Boots\", 'Arshiner Kid Waterproof Raincoat', 'TAGRY Bluetooth Headphones True Wireless Earbuds', \"BENSLING Girl's Hoodie Trench Coat\", 'BOMDEALS Cute Toddler Girls Sweatsuit', 'SHEWIN Fall Sweaters for Women', 'Schick Intuition Razors for Women']\n",
      "Current Batch Index is: [\"Amazon Essentials Women's Pajama Set\", 'Ekouaer Womens 2 Pack Pajama Set (x2)', 'LOVEVOOK Laptop Backpack for Women', 'TePe Gentle Care Soft Toothbrush', 'Perfect Remedy Wisdom Teeth Ice Pack Head Wrap', 'Wisdom Teeth Syringe (5 Pack)', 'Dental Cotton Rolls (Pack of 50)', 'SHEIN: Green Striped Button Shirt', \"SHEIN: Leopard Print Shirt (Men's)\", 'SHEIN: Swimsuit Cover-Up']\n",
      "Current Batch Index is: ['SHEIN: Halter Long Dress', 'Texas Instruments TI-84 Plus CE Calculator', 'Tommy Hilfiger Mens Jackson Backpack', '6Pack Replacement Pencil Tips for Apple Pencil', 'POWER-VOLUME BUTTON FLEX CABLE', 'MUSETEX ATX PC CASE PRE-INSTALL 6 PWM ARGB FANS (x2)', 'Various SHEIN Underwear & Sleepwear Items', \"Various SHEIN Women's Clothing Items\", \"SHEIN: Men's Underwear (5pcs)\", \"SHEIN: Plaid Print Shirt (Men's)\"]\n",
      "Current Batch Index is: ['SHEIN: Baby Clothing Set (2pcs)', 'Hapa Kristin Contact Lenses (3 pairs)', 'A-Premium Automatic Climate Control Module', \"Nike Flex Runner 4 Kids' Shoes\", 'Nike Heritage Backpack', 'Evolis Primacy 2 Color Ribbon', 'Evolis Primacy 2 Dual-Sided ID Card Printer', 'Universal Garage Door Opener Keypad', \"SHEIN: Men's Clothing Items (x2)\", \"SHEIN: Pink Dress (Women's)\"]\n",
      "Current Batch Index is: [\"Vince Camuto Women's MYYLEE Loafer Flat\", 'Expandable Dish Drying Rack', 'Steve Top Deep Fryer Pot with Basket', 'Vans Knu Skool Shoe', 'Aloruh Spring/Summer Vacation Beach [Item]', 'Yala Ladies Eau De Toilette - 3.4 OZ', \"CUCCOO SZL Women's Pointed Toe Black High Heels\", 'Desire&culpt 1 Pc Women Sports Bra', \"Elenzga New Women's Midi Dress\", 'Mi Lightweight Zipper Hobo Bag']\n",
      "Current Batch Index is: [\"Women's Square Toe Stiletto High Heel Sandals\", \"3pcs Women's Golden Styling Buckle Belts\", 'Valve Steam Deck 1TB Handheld Gaming Console']\n"
     ]
    }
   ],
   "source": [
    "# Now add all of the docs in the pinceone namespace\n",
    "uuids = [str(doc.metadata[\"desc\"]).encode(\"ascii\",\"ignore\").decode() for doc in ((docs))]\n",
    "batch_size = 10\n",
    "for i in range(0, len(docs), batch_size):\n",
    "    batch = docs[i:i+batch_size]\n",
    "    batch_ids = uuids[i:i+batch_size]\n",
    "    print(\"Current Batch Index is:\",batch_ids)\n",
    "    vector_store.add_documents(batch,ids=batch_ids)"
   ]
  },
  {
   "cell_type": "code",
   "execution_count": 50,
   "id": "1c515aff",
   "metadata": {},
   "outputs": [
    {
     "data": {
      "text/plain": [
       "[Document(id='Chemical Guys New Car Smell Freshener', metadata={'category': 'NaN', 'code': 33073000.0, 'desc': 'Chemical Guys New Car Smell Freshener', 'gdesc': 'LUCHTVERFRISSER'}, page_content='The description of this item is:Chemical Guys New Car Smell Freshener/nThe description of the goods is:LUCHTVERFRISSER'),\n",
       " Document(id='Chemical Guys Cherry Blast Freshener', metadata={'category': 'NaN', 'code': 33073000.0, 'desc': 'Chemical Guys Cherry Blast Freshener', 'gdesc': 'LUCHTVERFRISSER'}, page_content='The description of this item is:Chemical Guys Cherry Blast Freshener/nThe description of the goods is:LUCHTVERFRISSER')]"
      ]
     },
     "execution_count": 50,
     "metadata": {},
     "output_type": "execute_result"
    }
   ],
   "source": [
    "vector_store.similarity_search(query=\"Something used for freshening\",k=2)"
   ]
  },
  {
   "cell_type": "code",
   "execution_count": null,
   "id": "eef6a8c7",
   "metadata": {},
   "outputs": [],
   "source": []
  }
 ],
 "metadata": {
  "kernelspec": {
   "display_name": ".venv",
   "language": "python",
   "name": "python3"
  },
  "language_info": {
   "codemirror_mode": {
    "name": "ipython",
    "version": 3
   },
   "file_extension": ".py",
   "mimetype": "text/x-python",
   "name": "python",
   "nbconvert_exporter": "python",
   "pygments_lexer": "ipython3",
   "version": "3.12.11"
  }
 },
 "nbformat": 4,
 "nbformat_minor": 5
}
